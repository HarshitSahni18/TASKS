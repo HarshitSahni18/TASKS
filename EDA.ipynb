{
  "cells": [
    {
      "cell_type": "markdown",
      "metadata": {
        "id": "view-in-github",
        "colab_type": "text"
      },
      "source": [
        "<a href=\"https://colab.research.google.com/github/HarshitSahni18/TASKS/blob/main/EDA.ipynb\" target=\"_parent\"><img src=\"https://colab.research.google.com/assets/colab-badge.svg\" alt=\"Open In Colab\"/></a>"
      ]
    },
    {
      "cell_type": "code",
      "execution_count": 3,
      "metadata": {
        "colab": {
          "base_uri": "https://localhost:8080/"
        },
        "id": "AAWHBSC0C1XF",
        "outputId": "73aea1b7-6d52-4735-e96a-53c79c46f27e"
      },
      "outputs": [
        {
          "output_type": "stream",
          "name": "stdout",
          "text": [
            "Drive already mounted at /content/drive; to attempt to forcibly remount, call drive.mount(\"/content/drive\", force_remount=True).\n"
          ]
        }
      ],
      "source": [
        "from google.colab import drive\n",
        "drive.mount('/content/drive')\n",
        "\n"
      ]
    },
    {
      "cell_type": "code",
      "execution_count": 4,
      "metadata": {
        "colab": {
          "base_uri": "https://localhost:8080/"
        },
        "id": "_vcPoW1lGwkJ",
        "outputId": "b5967a98-94ed-47d6-d8b5-c5f6e298a87f"
      },
      "outputs": [
        {
          "output_type": "execute_result",
          "data": {
            "text/plain": [
              "(  CustomerID        CustomerName         Region  SignupDate\n",
              " 0      C0001    Lawrence Carroll  South America  2022-07-10\n",
              " 1      C0002      Elizabeth Lutz           Asia  2022-02-13\n",
              " 2      C0003      Michael Rivera  South America  2024-03-07\n",
              " 3      C0004  Kathleen Rodriguez  South America  2022-10-09\n",
              " 4      C0005         Laura Weber           Asia  2022-08-15,\n",
              "   ProductID              ProductName     Category   Price\n",
              " 0      P001     ActiveWear Biography        Books  169.30\n",
              " 1      P002    ActiveWear Smartwatch  Electronics  346.30\n",
              " 2      P003  ComfortLiving Biography        Books   44.12\n",
              " 3      P004            BookWorld Rug   Home Decor   95.69\n",
              " 4      P005          TechPro T-Shirt     Clothing  429.31,\n",
              "   TransactionID CustomerID ProductID      TransactionDate  Quantity  \\\n",
              " 0        T00001      C0199      P067  2024-08-25 12:38:23         1   \n",
              " 1        T00112      C0146      P067  2024-05-27 22:23:54         1   \n",
              " 2        T00166      C0127      P067  2024-04-25 07:38:55         1   \n",
              " 3        T00272      C0087      P067  2024-03-26 22:55:37         2   \n",
              " 4        T00363      C0070      P067  2024-03-21 15:10:10         3   \n",
              " \n",
              "    TotalValue   Price  \n",
              " 0      300.68  300.68  \n",
              " 1      300.68  300.68  \n",
              " 2      300.68  300.68  \n",
              " 3      601.36  300.68  \n",
              " 4      902.04  300.68  )"
            ]
          },
          "metadata": {},
          "execution_count": 4
        }
      ],
      "source": [
        "import pandas as pd\n",
        "\n",
        "# Load datasets from Google Drive\n",
        "customers = pd.read_csv('/content/drive/MyDrive/Customers.csv')\n",
        "products = pd.read_csv('/content/drive/MyDrive/Products.csv')\n",
        "transactions = pd.read_csv('/content/drive/MyDrive/Transactions.csv')\n",
        "\n",
        "# Display first few rows of each dataset to verify loading\n",
        "customers.head(), products.head(), transactions.head()\n"
      ]
    },
    {
      "cell_type": "markdown",
      "metadata": {
        "id": "lu_NBXiNIT6J"
      },
      "source": [
        "## Customer"
      ]
    },
    {
      "cell_type": "code",
      "execution_count": 5,
      "metadata": {
        "colab": {
          "base_uri": "https://localhost:8080/",
          "height": 186
        },
        "id": "6kFrBZw8IY_2",
        "outputId": "4eb549d1-20bf-45db-89c0-521841fedf3e"
      },
      "outputs": [
        {
          "output_type": "execute_result",
          "data": {
            "text/plain": [
              "<bound method NDFrame.head of     CustomerID        CustomerName         Region  SignupDate\n",
              "0        C0001    Lawrence Carroll  South America  2022-07-10\n",
              "1        C0002      Elizabeth Lutz           Asia  2022-02-13\n",
              "2        C0003      Michael Rivera  South America  2024-03-07\n",
              "3        C0004  Kathleen Rodriguez  South America  2022-10-09\n",
              "4        C0005         Laura Weber           Asia  2022-08-15\n",
              "..         ...                 ...            ...         ...\n",
              "195      C0196         Laura Watts         Europe  2022-06-07\n",
              "196      C0197    Christina Harvey         Europe  2023-03-21\n",
              "197      C0198         Rebecca Ray         Europe  2022-02-27\n",
              "198      C0199      Andrea Jenkins         Europe  2022-12-03\n",
              "199      C0200         Kelly Cross           Asia  2023-06-11\n",
              "\n",
              "[200 rows x 4 columns]>"
            ],
            "text/html": [
              "<div style=\"max-width:800px; border: 1px solid var(--colab-border-color);\"><style>\n",
              "      pre.function-repr-contents {\n",
              "        overflow-x: auto;\n",
              "        padding: 8px 12px;\n",
              "        max-height: 500px;\n",
              "      }\n",
              "\n",
              "      pre.function-repr-contents.function-repr-contents-collapsed {\n",
              "        cursor: pointer;\n",
              "        max-height: 100px;\n",
              "      }\n",
              "    </style>\n",
              "    <pre style=\"white-space: initial; background:\n",
              "         var(--colab-secondary-surface-color); padding: 8px 12px;\n",
              "         border-bottom: 1px solid var(--colab-border-color);\"><b>pandas.core.generic.NDFrame.head</b><br/>def head(n: int=5) -&gt; Self</pre><pre class=\"function-repr-contents function-repr-contents-collapsed\" style=\"\"><a class=\"filepath\" style=\"display:none\" href=\"#\">/usr/local/lib/python3.11/dist-packages/pandas/core/generic.py</a>Return the first `n` rows.\n",
              "\n",
              "This function returns the first `n` rows for the object based\n",
              "on position. It is useful for quickly testing if your object\n",
              "has the right type of data in it.\n",
              "\n",
              "For negative values of `n`, this function returns all rows except\n",
              "the last `|n|` rows, equivalent to ``df[:n]``.\n",
              "\n",
              "If n is larger than the number of rows, this function returns all rows.\n",
              "\n",
              "Parameters\n",
              "----------\n",
              "n : int, default 5\n",
              "    Number of rows to select.\n",
              "\n",
              "Returns\n",
              "-------\n",
              "same type as caller\n",
              "    The first `n` rows of the caller object.\n",
              "\n",
              "See Also\n",
              "--------\n",
              "DataFrame.tail: Returns the last `n` rows.\n",
              "\n",
              "Examples\n",
              "--------\n",
              "&gt;&gt;&gt; df = pd.DataFrame({&#x27;animal&#x27;: [&#x27;alligator&#x27;, &#x27;bee&#x27;, &#x27;falcon&#x27;, &#x27;lion&#x27;,\n",
              "...                    &#x27;monkey&#x27;, &#x27;parrot&#x27;, &#x27;shark&#x27;, &#x27;whale&#x27;, &#x27;zebra&#x27;]})\n",
              "&gt;&gt;&gt; df\n",
              "      animal\n",
              "0  alligator\n",
              "1        bee\n",
              "2     falcon\n",
              "3       lion\n",
              "4     monkey\n",
              "5     parrot\n",
              "6      shark\n",
              "7      whale\n",
              "8      zebra\n",
              "\n",
              "Viewing the first 5 lines\n",
              "\n",
              "&gt;&gt;&gt; df.head()\n",
              "      animal\n",
              "0  alligator\n",
              "1        bee\n",
              "2     falcon\n",
              "3       lion\n",
              "4     monkey\n",
              "\n",
              "Viewing the first `n` lines (three in this case)\n",
              "\n",
              "&gt;&gt;&gt; df.head(3)\n",
              "      animal\n",
              "0  alligator\n",
              "1        bee\n",
              "2     falcon\n",
              "\n",
              "For negative values of `n`\n",
              "\n",
              "&gt;&gt;&gt; df.head(-3)\n",
              "      animal\n",
              "0  alligator\n",
              "1        bee\n",
              "2     falcon\n",
              "3       lion\n",
              "4     monkey\n",
              "5     parrot</pre>\n",
              "      <script>\n",
              "      if (google.colab.kernel.accessAllowed && google.colab.files && google.colab.files.view) {\n",
              "        for (const element of document.querySelectorAll('.filepath')) {\n",
              "          element.style.display = 'block'\n",
              "          element.onclick = (event) => {\n",
              "            event.preventDefault();\n",
              "            event.stopPropagation();\n",
              "            google.colab.files.view(element.textContent, 5818);\n",
              "          };\n",
              "        }\n",
              "      }\n",
              "      for (const element of document.querySelectorAll('.function-repr-contents')) {\n",
              "        element.onclick = (event) => {\n",
              "          event.preventDefault();\n",
              "          event.stopPropagation();\n",
              "          element.classList.toggle('function-repr-contents-collapsed');\n",
              "        };\n",
              "      }\n",
              "      </script>\n",
              "      </div>"
            ]
          },
          "metadata": {},
          "execution_count": 5
        }
      ],
      "source": [
        "customers.head"
      ]
    },
    {
      "cell_type": "markdown",
      "source": [
        "Check Data Structure"
      ],
      "metadata": {
        "id": "n7mUcpkjVPd_"
      }
    },
    {
      "cell_type": "code",
      "source": [
        "# Check the structure of the datasets\n",
        "print(customers.info())\n",
        "print(products.info())\n",
        "print(transactions.info())\n",
        "\n"
      ],
      "metadata": {
        "colab": {
          "base_uri": "https://localhost:8080/"
        },
        "id": "7pkcrRabVSHf",
        "outputId": "ce783c4c-e580-483e-cb3c-b85da59fe26d"
      },
      "execution_count": 6,
      "outputs": [
        {
          "output_type": "stream",
          "name": "stdout",
          "text": [
            "<class 'pandas.core.frame.DataFrame'>\n",
            "RangeIndex: 200 entries, 0 to 199\n",
            "Data columns (total 4 columns):\n",
            " #   Column        Non-Null Count  Dtype \n",
            "---  ------        --------------  ----- \n",
            " 0   CustomerID    200 non-null    object\n",
            " 1   CustomerName  200 non-null    object\n",
            " 2   Region        200 non-null    object\n",
            " 3   SignupDate    200 non-null    object\n",
            "dtypes: object(4)\n",
            "memory usage: 6.4+ KB\n",
            "None\n",
            "<class 'pandas.core.frame.DataFrame'>\n",
            "RangeIndex: 100 entries, 0 to 99\n",
            "Data columns (total 4 columns):\n",
            " #   Column       Non-Null Count  Dtype  \n",
            "---  ------       --------------  -----  \n",
            " 0   ProductID    100 non-null    object \n",
            " 1   ProductName  100 non-null    object \n",
            " 2   Category     100 non-null    object \n",
            " 3   Price        100 non-null    float64\n",
            "dtypes: float64(1), object(3)\n",
            "memory usage: 3.3+ KB\n",
            "None\n",
            "<class 'pandas.core.frame.DataFrame'>\n",
            "RangeIndex: 1000 entries, 0 to 999\n",
            "Data columns (total 7 columns):\n",
            " #   Column           Non-Null Count  Dtype  \n",
            "---  ------           --------------  -----  \n",
            " 0   TransactionID    1000 non-null   object \n",
            " 1   CustomerID       1000 non-null   object \n",
            " 2   ProductID        1000 non-null   object \n",
            " 3   TransactionDate  1000 non-null   object \n",
            " 4   Quantity         1000 non-null   int64  \n",
            " 5   TotalValue       1000 non-null   float64\n",
            " 6   Price            1000 non-null   float64\n",
            "dtypes: float64(2), int64(1), object(4)\n",
            "memory usage: 54.8+ KB\n",
            "None\n"
          ]
        }
      ]
    },
    {
      "cell_type": "markdown",
      "source": [
        "Check for Missing Values"
      ],
      "metadata": {
        "id": "HTvqY4lJV6cI"
      }
    },
    {
      "cell_type": "code",
      "source": [
        "# Check missing values in each dataset\n",
        "print(customers.isnull().sum())\n",
        "print(products.isnull().sum())\n",
        "print(transactions.isnull().sum())\n"
      ],
      "metadata": {
        "colab": {
          "base_uri": "https://localhost:8080/"
        },
        "id": "N9yeXCi5V7aV",
        "outputId": "c7c20545-c626-4f60-bcd6-d595d795098e"
      },
      "execution_count": 7,
      "outputs": [
        {
          "output_type": "stream",
          "name": "stdout",
          "text": [
            "CustomerID      0\n",
            "CustomerName    0\n",
            "Region          0\n",
            "SignupDate      0\n",
            "dtype: int64\n",
            "ProductID      0\n",
            "ProductName    0\n",
            "Category       0\n",
            "Price          0\n",
            "dtype: int64\n",
            "TransactionID      0\n",
            "CustomerID         0\n",
            "ProductID          0\n",
            "TransactionDate    0\n",
            "Quantity           0\n",
            "TotalValue         0\n",
            "Price              0\n",
            "dtype: int64\n"
          ]
        }
      ]
    },
    {
      "cell_type": "markdown",
      "source": [
        "Summary Statistics"
      ],
      "metadata": {
        "id": "GTILtA6fWAGy"
      }
    },
    {
      "cell_type": "code",
      "source": [
        "# Basic statistical summary of numerical columns\n",
        "print(transactions.describe())\n"
      ],
      "metadata": {
        "colab": {
          "base_uri": "https://localhost:8080/"
        },
        "id": "CsaNcJPUWBwC",
        "outputId": "4ee35ea3-b243-4e77-b7f9-3aa875de90f1"
      },
      "execution_count": 8,
      "outputs": [
        {
          "output_type": "stream",
          "name": "stdout",
          "text": [
            "          Quantity   TotalValue       Price\n",
            "count  1000.000000  1000.000000  1000.00000\n",
            "mean      2.537000   689.995560   272.55407\n",
            "std       1.117981   493.144478   140.73639\n",
            "min       1.000000    16.080000    16.08000\n",
            "25%       2.000000   295.295000   147.95000\n",
            "50%       3.000000   588.880000   299.93000\n",
            "75%       4.000000  1011.660000   404.40000\n",
            "max       4.000000  1991.040000   497.76000\n"
          ]
        }
      ]
    },
    {
      "cell_type": "markdown",
      "source": [
        "Visualize Data Distributions"
      ],
      "metadata": {
        "id": "fYeEaiAoWGyL"
      }
    },
    {
      "cell_type": "code",
      "source": [
        "import matplotlib.pyplot as plt\n",
        "import seaborn as sns\n",
        "\n",
        "# Customer distribution by region\n",
        "plt.figure(figsize=(8,5))\n",
        "sns.countplot(x='Region', data=customers)\n",
        "plt.title('Customers by Region')\n",
        "plt.show()\n"
      ],
      "metadata": {
        "colab": {
          "base_uri": "https://localhost:8080/",
          "height": 487
        },
        "id": "pGoiwT1iWHV4",
        "outputId": "2fe4edb8-ca47-4522-9a43-926044077a85"
      },
      "execution_count": 9,
      "outputs": [
        {
          "output_type": "display_data",
          "data": {
            "text/plain": [
              "<Figure size 800x500 with 1 Axes>"
            ],
            "image/png": "[encoded data removed]"
          },
          "metadata": {}
        }
      ]
    },
    {
      "cell_type": "markdown",
      "source": [
        "Find Top-Selling Products"
      ],
      "metadata": {
        "id": "gvKUgN0oWNLH"
      }
    },
    {
      "cell_type": "code",
      "source": [
        "top_products = transactions.groupby('ProductID')['Quantity'].sum().reset_index()\n",
        "top_products = top_products.sort_values(by='Quantity', ascending=False)\n",
        "\n",
        "# Merge with product names\n",
        "top_products = top_products.merge(products, on='ProductID', how='left')\n",
        "\n",
        "# Visualize top 10 selling products\n",
        "plt.figure(figsize=(10,5))\n",
        "sns.barplot(x='Quantity', y='ProductName', data=top_products.head(10), palette='viridis')\n",
        "plt.title('Top 10 Best-Selling Products')\n",
        "plt.show()\n"
      ],
      "metadata": {
        "colab": {
          "base_uri": "https://localhost:8080/",
          "height": 594
        },
        "id": "2utsljVrWO9D",
        "outputId": "bd61c864-2daf-474f-8808-1073c6303a71"
      },
      "execution_count": 10,
      "outputs": [
        {
          "output_type": "stream",
          "name": "stderr",
          "text": [
            "<ipython-input-10-988c8c35d303>:9: FutureWarning: \n",
            "\n",
            "Passing `palette` without assigning `hue` is deprecated and will be removed in v0.14.0. Assign the `y` variable to `hue` and set `legend=False` for the same effect.\n",
            "\n",
            "  sns.barplot(x='Quantity', y='ProductName', data=top_products.head(10), palette='viridis')\n"
          ]
        },
        {
          "output_type": "display_data",
          "data": {
            "text/plain": [
              "<Figure size 1000x500 with 1 Axes>"
            ],
            "image/png": "[encoded data removed]"
          },
          "metadata": {}
        }
      ]
    },
    {
      "cell_type": "markdown",
      "source": [
        "Summary Statistics (describe())"
      ],
      "metadata": {
        "id": "AO-qFIMCX7uc"
      }
    },
    {
      "cell_type": "code",
      "source": [
        "print(\"\\nTransactions Summary Statistics:\")\n",
        "print(transactions.describe())\n",
        "\n",
        "print(\"\\nProducts Summary Statistics:\")\n",
        "print(products.describe())\n"
      ],
      "metadata": {
        "colab": {
          "base_uri": "https://localhost:8080/"
        },
        "id": "KnjdLlSJX8bf",
        "outputId": "eae736b1-bdd9-4ece-a05c-03a397ca7437"
      },
      "execution_count": 11,
      "outputs": [
        {
          "output_type": "stream",
          "name": "stdout",
          "text": [
            "\n",
            "Transactions Summary Statistics:\n",
            "          Quantity   TotalValue       Price\n",
            "count  1000.000000  1000.000000  1000.00000\n",
            "mean      2.537000   689.995560   272.55407\n",
            "std       1.117981   493.144478   140.73639\n",
            "min       1.000000    16.080000    16.08000\n",
            "25%       2.000000   295.295000   147.95000\n",
            "50%       3.000000   588.880000   299.93000\n",
            "75%       4.000000  1011.660000   404.40000\n",
            "max       4.000000  1991.040000   497.76000\n",
            "\n",
            "Products Summary Statistics:\n",
            "            Price\n",
            "count  100.000000\n",
            "mean   267.551700\n",
            "std    143.219383\n",
            "min     16.080000\n",
            "25%    147.767500\n",
            "50%    292.875000\n",
            "75%    397.090000\n",
            "max    497.760000\n"
          ]
        }
      ]
    },
    {
      "cell_type": "markdown",
      "source": [
        "## Detect and Handle Outliers"
      ],
      "metadata": {
        "id": "YkIXFyPzYDLv"
      }
    },
    {
      "cell_type": "markdown",
      "source": [
        "Using Boxplot for Outlier Detection"
      ],
      "metadata": {
        "id": "7dBUbiNWYDzZ"
      }
    },
    {
      "cell_type": "code",
      "source": [
        "plt.figure(figsize=(10, 5))\n",
        "sns.boxplot(x=transactions['TotalValue'])\n",
        "plt.title(\"Boxplot of Total Transaction Value (Outliers Detection)\")\n",
        "plt.show()\n"
      ],
      "metadata": {
        "colab": {
          "base_uri": "https://localhost:8080/",
          "height": 487
        },
        "id": "2ONSpZGcYMBQ",
        "outputId": "d587a272-e668-4c96-90c2-81cac684df4b"
      },
      "execution_count": 12,
      "outputs": [
        {
          "output_type": "display_data",
          "data": {
            "text/plain": [
              "<Figure size 1000x500 with 1 Axes>"
            ],
            "image/png": "[encoded data removed]"
          },
          "metadata": {}
        }
      ]
    },
    {
      "cell_type": "markdown",
      "source": [
        "Remove Outliers using IQR Method"
      ],
      "metadata": {
        "id": "r2kKAQZtYPQ3"
      }
    },
    {
      "cell_type": "code",
      "source": [
        "Q1 = transactions['TotalValue'].quantile(0.25)\n",
        "Q3 = transactions['TotalValue'].quantile(0.75)\n",
        "IQR = Q3 - Q1\n",
        "\n",
        "# Define lower and upper bounds\n",
        "lower_bound = Q1 - 1.5 * IQR\n",
        "upper_bound = Q3 + 1.5 * IQR\n",
        "\n",
        "# Remove outliers\n",
        "transactions_cleaned = transactions[(transactions['TotalValue'] >= lower_bound) & (transactions['TotalValue'] <= upper_bound)]\n",
        "\n",
        "print(\"Original Transactions Dataset Shape:\", transactions.shape)\n",
        "print(\"After Removing Outliers:\", transactions_cleaned.shape)\n"
      ],
      "metadata": {
        "colab": {
          "base_uri": "https://localhost:8080/"
        },
        "id": "QsNn-_weYQSN",
        "outputId": "8b8f29a8-45b1-49b3-d76d-5495b79cfcc0"
      },
      "execution_count": 13,
      "outputs": [
        {
          "output_type": "stream",
          "name": "stdout",
          "text": [
            "Original Transactions Dataset Shape: (1000, 7)\n",
            "After Removing Outliers: (1000, 7)\n"
          ]
        }
      ]
    },
    {
      "cell_type": "markdown",
      "source": [
        "## Find 20th & 25th Percentile Values"
      ],
      "metadata": {
        "id": "1pMIVMjdYVlh"
      }
    },
    {
      "cell_type": "code",
      "source": [
        "percentile_20 = transactions['TotalValue'].quantile(0.20)\n",
        "percentile_25 = transactions['TotalValue'].quantile(0.25)\n",
        "\n",
        "print(\"20th Percentile of TotalValue:\", percentile_20)\n",
        "print(\"25th Percentile of TotalValue:\", percentile_25)\n"
      ],
      "metadata": {
        "colab": {
          "base_uri": "https://localhost:8080/"
        },
        "id": "cCvolHUrYZHF",
        "outputId": "34338d67-0c4d-4155-9eec-d7edac29255c"
      },
      "execution_count": 14,
      "outputs": [
        {
          "output_type": "stream",
          "name": "stdout",
          "text": [
            "20th Percentile of TotalValue: 242.64\n",
            "25th Percentile of TotalValue: 295.29499999999996\n"
          ]
        }
      ]
    }
  ],
  "metadata": {
    "colab": {
      "provenance": [],
      "mount_file_id": "1hDz7fxc5H5v-nH3BWknGIPz7N6g79gv5",
      "authorship_tag": "ABX9TyPNStEvU1W6TSdSTj6FR8IV",
      "include_colab_link": true
    },
    "kernelspec": {
      "display_name": "Python 3",
      "name": "python3"
    },
    "language_info": {
      "name": "python"
    }
  },
  "nbformat": 4,
  "nbformat_minor": 0
}